{
 "cells": [
  {
   "cell_type": "code",
   "execution_count": null,
   "id": "74bc08e8-cab0-4482-a1b5-daa2ce58a823",
   "metadata": {},
   "outputs": [],
   "source": [
    "# Import necessary libraries\n",
    "import pandas as pd\n",
    "import matplotlib.pyplot as plt\n",
    "import seaborn as sns\n",
    "\n",
    "# Set visual style for plots\n",
    "sns.set(style=\"whitegrid\")"
   ]
  },
  {
   "cell_type": "code",
   "execution_count": null,
   "id": "56867fb2-1591-4200-b2a2-5887b7a0f0fb",
   "metadata": {},
   "outputs": [],
   "source": [
    "# Load the dataset\n",
    "# Replace 'tuberculosis.csv' with the actual file path to your dataset\n",
    "data = pd.read_csv('tuberculosis.csv')\n",
    "\n",
    "# Display the first few rows of the dataset\n",
    "print(data.head())"
   ]
  },
  {
   "cell_type": "code",
   "execution_count": null,
   "id": "9c4d0c1f-96e9-4e8c-8bb3-44a43b81636b",
   "metadata": {},
   "outputs": [],
   "source": [
    "# Data Cleaning\n",
    "# Check for missing values\n",
    "print(\"Missing values in each column:\")\n",
    "print(data.isnull().sum())"
   ]
  },
  {
   "cell_type": "code",
   "execution_count": null,
   "id": "85fbff4c-6a36-4c95-8599-3e97178e6d1f",
   "metadata": {},
   "outputs": [],
   "source": [
    "# Drop rows with missing 'Numeric Value', 'Low', or 'High'\n",
    "data = data.dropna(subset=['Numeric', 'Low', 'High'])"
   ]
  },
  {
   "cell_type": "code",
   "execution_count": null,
   "id": "8e80ae7f-d6b1-45ba-bb94-82453c2eef83",
   "metadata": {},
   "outputs": [],
   "source": [
    "# Check for missing values again\n",
    "print(\"Missing values after cleaning:\")\n",
    "print(data.isnull().sum())"
   ]
  },
  {
   "cell_type": "code",
   "execution_count": null,
   "id": "567209e8-e21d-4799-bcec-038676d14cae",
   "metadata": {},
   "outputs": [],
   "source": [
    "# Convert YEAR to datetime format for time series analysis\n",
    "data['YEAR'] = pd.to_datetime(data['YEAR (DISPLAY)'], format='%Y')"
   ]
  },
  {
   "cell_type": "code",
   "execution_count": null,
   "id": "6b9ec817-cac0-4519-ade4-2b85abc3c2d0",
   "metadata": {},
   "outputs": [],
   "source": [
    "# Exploratory Data Analysis (EDA)\n",
    "# Descriptive statistics for Numeric Value\n",
    "print(\"Descriptive statistics for TB incidence:\")\n",
    "print(data['Numeric'].describe())"
   ]
  },
  {
   "cell_type": "code",
   "execution_count": null,
   "id": "948654bb-6fcb-4f70-af5f-f4e74251a399",
   "metadata": {},
   "outputs": [],
   "source": [
    "# Group by year and calculate average TB incidence\n",
    "yearly_data = data.groupby('YEAR (DISPLAY)').agg(\n",
    "    average_incidence=('Numeric', 'mean'),\n",
    "    total_cases=('Numeric', 'sum'),\n",
    "    low_value=('Low', 'mean'),\n",
    "    high_value=('High', 'mean')\n",
    ").reset_index()"
   ]
  },
  {
   "cell_type": "code",
   "execution_count": null,
   "id": "bf61f7e8-1ed0-4fd1-adfa-237732b10994",
   "metadata": {},
   "outputs": [],
   "source": [
    "# Calculate percentage change in TB incidence year-over-year\n",
    "yearly_data['pct_change'] = yearly_data['average_incidence'].pct_change() * 100\n",
    "\n",
    "# Visualization 1: Line plot of TB incidence over time\n",
    "plt.figure(figsize=(12, 6))\n",
    "sns.lineplot(data=yearly_data, x='YEAR (DISPLAY)', y='average_incidence', marker='o')\n",
    "plt.title('Average TB Incidence Over Time')\n",
    "plt.xlabel('Year')\n",
    "plt.ylabel('Average TB Incidence')\n",
    "plt.xticks(rotation=45)\n",
    "plt.tight_layout()\n",
    "plt.show()"
   ]
  },
  {
   "cell_type": "code",
   "execution_count": null,
   "id": "b28ccf7a-2cae-4eba-8b9e-f970c633dad6",
   "metadata": {},
   "outputs": [],
   "source": [
    "# Visualization 2: Bar Chart of TB Incidence by Year\n",
    "plt.figure(figsize=(12, 6))\n",
    "sns.barplot(data=yearly_data, x='YEAR (DISPLAY)', y='average_incidence', palette='viridis')\n",
    "plt.title('Average TB Incidence in Kenya by Year')\n",
    "plt.xlabel('Year')\n",
    "plt.ylabel('Average TB Incidence')\n",
    "plt.xticks(rotation=45)\n",
    "plt.tight_layout()\n",
    "plt.show()"
   ]
  },
  {
   "cell_type": "code",
   "execution_count": null,
   "id": "569c0f9e-26e3-4b25-8c7a-46b341994e49",
   "metadata": {},
   "outputs": [],
   "source": [
    "# Visualization 3: Histogram of TB Incidence Values\n",
    "plt.figure(figsize=(12, 6))\n",
    "sns.histplot(data['Numeric'], bins=20, kde=True, color='blue')\n",
    "plt.title('Distribution of TB Incidence Values')\n",
    "plt.xlabel('TB Incidence')\n",
    "plt.ylabel('Frequency')\n",
    "plt.tight_layout()\n",
    "plt.show()"
   ]
  },
  {
   "cell_type": "code",
   "execution_count": null,
   "id": "a6394ce5-e462-4bdd-a337-8255fec34d12",
   "metadata": {},
   "outputs": [],
   "source": [
    "# Visualization 4: Box Plot of TB Incidence Values by Year\n",
    "plt.figure(figsize=(12, 6))\n",
    "sns.boxplot(data=data, x='YEAR (DISPLAY)', y='Numeric', palette='Set2')\n",
    "plt.title('Distribution of TB Incidence Values in Kenya by Year')\n",
    "plt.xlabel('Year')\n",
    "plt.ylabel('TB Incidence')\n",
    "plt.xticks(rotation=45)\n",
    "plt.tight_layout()\n",
    "plt.show()"
   ]
  },
  {
   "cell_type": "code",
   "execution_count": null,
   "id": "62badcbe-663e-4920-b1e6-eea91128d1fa",
   "metadata": {},
   "outputs": [],
   "source": [
    "# Additional Analysis: Error Bars using Low and High values if available\n",
    "if 'Low' in data.columns and 'High' in data.columns:\n",
    "    # Group by year and calculate mean and confidence intervals\n",
    "    ci_data = data.groupby('YEAR (DISPLAY)').agg(\n",
    "        mean_value=('Numeric', 'mean'),\n",
    "        low_value=('Low', 'mean'),\n",
    "        high_value=('High', 'mean')\n",
    "    ).reset_index()\n",
    "\n",
    "    plt.figure(figsize=(12, 6))\n",
    "    plt.errorbar(ci_data['YEAR (DISPLAY)'], ci_data['mean_value'], \n",
    "                 yerr=[ci_data['mean_value'] - ci_data['low_value'], \n",
    "                        ci_data['high_value'] - ci_data['mean_value']],\n",
    "                 fmt='o', capsize=5)\n",
    "    plt.title('TB Incidence Over Time with Confidence Intervals')\n",
    "    plt.xlabel('Year')\n",
    "    plt.ylabel('TB Incidence')\n",
    "    plt.xticks(rotation=45)\n",
    "    plt.tight_layout()\n",
    "    plt.show()\n",
    "else:\n",
    "    print(\"Low and High values are not available for error bars.\")"
   ]
  },
  {
   "cell_type": "code",
   "execution_count": null,
   "id": "c76ab0e6-9e4c-4f8f-b4a5-8f2e0a109433",
   "metadata": {},
   "outputs": [],
   "source": [
    "# Correlation Analysis between Numeric Value, Low, and High\n",
    "correlation_matrix = data[['Numeric', 'Low', 'High']].corr()\n",
    "print(\"Correlation matrix:\")\n",
    "print(correlation_matrix)"
   ]
  },
  {
   "cell_type": "code",
   "execution_count": null,
   "id": "86f5d147-4d8d-448b-8f72-66a861aac975",
   "metadata": {},
   "outputs": [],
   "source": [
    "# Visualization 5: Heatmap of Correlation Matrix\n",
    "plt.figure(figsize=(8, 6))\n",
    "sns.heatmap(correlation_matrix, annot=True, cmap='coolwarm', fmt=\".2f\")\n",
    "plt.title('Correlation Heatmap between TB Incidence Metrics')\n",
    "plt.tight_layout()\n",
    "plt.show()"
   ]
  },
  {
   "cell_type": "code",
   "execution_count": null,
   "id": "38d10007-d61a-4883-8926-af59f0e603c3",
   "metadata": {},
   "outputs": [],
   "source": [
    "# Visualization 6: Pie Chart for Proportion of TB Cases by Region (if applicable)\n",
    "#if 'REGION (DISPLAY)' in data.columns:\n",
    " #   region_data = data['REGION (DISPLAY)'].value_counts()\n",
    "    \n",
    "  #  plt.figure(figsize=(8, 8))\n",
    "   # plt.pie(region_data, labels=region_data.index, autopct='%1.1f%%', startangle=140, colors=sns.color_palette('pastel'))\n",
    "   # plt.title('Proportion of TB Cases by Region in Kenya')\n",
    "   # plt.axis('equal')  # Equal aspect ratio ensures that pie is drawn as a circle.\n",
    "  #  plt.tight_layout()\n",
    "  #  plt.show()\n",
    "#else:\n",
    " #   print(\"No regional data available for pie chart visualization.\")"
   ]
  }
 ],
 "metadata": {
  "kernelspec": {
   "display_name": "Python 3 (ipykernel)",
   "language": "python",
   "name": "python3"
  },
  "language_info": {
   "codemirror_mode": {
    "name": "ipython",
    "version": 3
   },
   "file_extension": ".py",
   "mimetype": "text/x-python",
   "name": "python",
   "nbconvert_exporter": "python",
   "pygments_lexer": "ipython3",
   "version": "3.12.7"
  }
 },
 "nbformat": 4,
 "nbformat_minor": 5
}
